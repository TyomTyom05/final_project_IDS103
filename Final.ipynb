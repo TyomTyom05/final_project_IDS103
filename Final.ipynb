{
  "cells": [
    {
      "cell_type": "markdown",
      "id": "c062cb0b",
      "metadata": {
        "id": "c062cb0b"
      },
      "source": [
        "# IDS103: Statistical Intuitions and Applications"
      ]
    },
    {
      "cell_type": "markdown",
      "id": "6b85c44a",
      "metadata": {
        "id": "6b85c44a"
      },
      "source": [
        "## Final Assignment\n",
        "\n",
        "### Instructions:\n",
        "1. Please be reminded that the **report** is your primary submission which is shared as a draft separately.\n",
        "\n",
        "2. This ipynb file is **NOT** the main submission. It is only to work on dataset.\n",
        "\n",
        "3. This ipynb file will be submitted as secondary source in a zip-folder along with generated csv file.\n",
        "\n",
        "4. Below there are five datasets and your group will only select **ONE** dataset to work on."
      ]
    },
    {
      "cell_type": "markdown",
      "id": "400a3f04",
      "metadata": {
        "id": "400a3f04"
      },
      "source": [
        "## Choose ONE dataset as discussed and finalized by your instructor.  "
      ]
    },
    {
      "cell_type": "code",
      "execution_count": null,
      "id": "fda2bb89",
      "metadata": {
        "id": "fda2bb89"
      },
      "outputs": [],
      "source": [
        "# Following libraries will be loaded so that these can be applied in codes.\n",
        "\n",
        "import numpy as np\n",
        "import pandas as pd\n",
        "import matplotlib.pyplot as plt\n",
        "import random\n",
        "import scipy.stats as stats"
      ]
    },
    {
      "cell_type": "markdown",
      "id": "d3999a73",
      "metadata": {
        "id": "d3999a73"
      },
      "source": [
        "# DataSet - 1"
      ]
    },
    {
      "cell_type": "code",
      "execution_count": null,
      "id": "8fdb49d9",
      "metadata": {
        "id": "8fdb49d9"
      },
      "outputs": [],
      "source": []
    },
    {
      "cell_type": "markdown",
      "id": "d993c6c3",
      "metadata": {
        "id": "d993c6c3"
      },
      "source": [
        "# DataSet - 2"
      ]
    },
    {
      "cell_type": "code",
      "execution_count": null,
      "id": "f724c1a5",
      "metadata": {
        "id": "f724c1a5"
      },
      "outputs": [],
      "source": []
    },
    {
      "cell_type": "markdown",
      "id": "a170e62f",
      "metadata": {
        "id": "a170e62f"
      },
      "source": [
        "# DataSet - 3"
      ]
    },
    {
      "cell_type": "code",
      "execution_count": 10,
      "id": "f702817e",
      "metadata": {
        "id": "f702817e",
        "outputId": "d9322bff-4d1d-4bc8-b13e-d152f4a93f09",
        "colab": {
          "base_uri": "https://localhost:8080/",
          "height": 206
        }
      },
      "outputs": [
        {
          "output_type": "execute_result",
          "data": {
            "text/plain": [
              "   Unnamed: 0  age     sex    bmi  children smoker     region      charges\n",
              "0         370   61  female  21.09         0     no  northwest  13415.03810\n",
              "1        1057   45  female  31.79         0     no  southeast  17929.30337\n",
              "2         287   63  female  26.22         0     no  northwest  14256.19280\n",
              "3         717   60    male  24.32         1     no  northwest  13112.60480\n",
              "4         468   28  female  24.32         1     no  northeast  23288.92840"
            ],
            "text/html": [
              "\n",
              "  <div id=\"df-e9ba51af-949a-49d6-8cc7-78383d04010c\" class=\"colab-df-container\">\n",
              "    <div>\n",
              "<style scoped>\n",
              "    .dataframe tbody tr th:only-of-type {\n",
              "        vertical-align: middle;\n",
              "    }\n",
              "\n",
              "    .dataframe tbody tr th {\n",
              "        vertical-align: top;\n",
              "    }\n",
              "\n",
              "    .dataframe thead th {\n",
              "        text-align: right;\n",
              "    }\n",
              "</style>\n",
              "<table border=\"1\" class=\"dataframe\">\n",
              "  <thead>\n",
              "    <tr style=\"text-align: right;\">\n",
              "      <th></th>\n",
              "      <th>Unnamed: 0</th>\n",
              "      <th>age</th>\n",
              "      <th>sex</th>\n",
              "      <th>bmi</th>\n",
              "      <th>children</th>\n",
              "      <th>smoker</th>\n",
              "      <th>region</th>\n",
              "      <th>charges</th>\n",
              "    </tr>\n",
              "  </thead>\n",
              "  <tbody>\n",
              "    <tr>\n",
              "      <th>0</th>\n",
              "      <td>370</td>\n",
              "      <td>61</td>\n",
              "      <td>female</td>\n",
              "      <td>21.09</td>\n",
              "      <td>0</td>\n",
              "      <td>no</td>\n",
              "      <td>northwest</td>\n",
              "      <td>13415.03810</td>\n",
              "    </tr>\n",
              "    <tr>\n",
              "      <th>1</th>\n",
              "      <td>1057</td>\n",
              "      <td>45</td>\n",
              "      <td>female</td>\n",
              "      <td>31.79</td>\n",
              "      <td>0</td>\n",
              "      <td>no</td>\n",
              "      <td>southeast</td>\n",
              "      <td>17929.30337</td>\n",
              "    </tr>\n",
              "    <tr>\n",
              "      <th>2</th>\n",
              "      <td>287</td>\n",
              "      <td>63</td>\n",
              "      <td>female</td>\n",
              "      <td>26.22</td>\n",
              "      <td>0</td>\n",
              "      <td>no</td>\n",
              "      <td>northwest</td>\n",
              "      <td>14256.19280</td>\n",
              "    </tr>\n",
              "    <tr>\n",
              "      <th>3</th>\n",
              "      <td>717</td>\n",
              "      <td>60</td>\n",
              "      <td>male</td>\n",
              "      <td>24.32</td>\n",
              "      <td>1</td>\n",
              "      <td>no</td>\n",
              "      <td>northwest</td>\n",
              "      <td>13112.60480</td>\n",
              "    </tr>\n",
              "    <tr>\n",
              "      <th>4</th>\n",
              "      <td>468</td>\n",
              "      <td>28</td>\n",
              "      <td>female</td>\n",
              "      <td>24.32</td>\n",
              "      <td>1</td>\n",
              "      <td>no</td>\n",
              "      <td>northeast</td>\n",
              "      <td>23288.92840</td>\n",
              "    </tr>\n",
              "  </tbody>\n",
              "</table>\n",
              "</div>\n",
              "    <div class=\"colab-df-buttons\">\n",
              "\n",
              "  <div class=\"colab-df-container\">\n",
              "    <button class=\"colab-df-convert\" onclick=\"convertToInteractive('df-e9ba51af-949a-49d6-8cc7-78383d04010c')\"\n",
              "            title=\"Convert this dataframe to an interactive table.\"\n",
              "            style=\"display:none;\">\n",
              "\n",
              "  <svg xmlns=\"http://www.w3.org/2000/svg\" height=\"24px\" viewBox=\"0 -960 960 960\">\n",
              "    <path d=\"M120-120v-720h720v720H120Zm60-500h600v-160H180v160Zm220 220h160v-160H400v160Zm0 220h160v-160H400v160ZM180-400h160v-160H180v160Zm440 0h160v-160H620v160ZM180-180h160v-160H180v160Zm440 0h160v-160H620v160Z\"/>\n",
              "  </svg>\n",
              "    </button>\n",
              "\n",
              "  <style>\n",
              "    .colab-df-container {\n",
              "      display:flex;\n",
              "      gap: 12px;\n",
              "    }\n",
              "\n",
              "    .colab-df-convert {\n",
              "      background-color: #E8F0FE;\n",
              "      border: none;\n",
              "      border-radius: 50%;\n",
              "      cursor: pointer;\n",
              "      display: none;\n",
              "      fill: #1967D2;\n",
              "      height: 32px;\n",
              "      padding: 0 0 0 0;\n",
              "      width: 32px;\n",
              "    }\n",
              "\n",
              "    .colab-df-convert:hover {\n",
              "      background-color: #E2EBFA;\n",
              "      box-shadow: 0px 1px 2px rgba(60, 64, 67, 0.3), 0px 1px 3px 1px rgba(60, 64, 67, 0.15);\n",
              "      fill: #174EA6;\n",
              "    }\n",
              "\n",
              "    .colab-df-buttons div {\n",
              "      margin-bottom: 4px;\n",
              "    }\n",
              "\n",
              "    [theme=dark] .colab-df-convert {\n",
              "      background-color: #3B4455;\n",
              "      fill: #D2E3FC;\n",
              "    }\n",
              "\n",
              "    [theme=dark] .colab-df-convert:hover {\n",
              "      background-color: #434B5C;\n",
              "      box-shadow: 0px 1px 3px 1px rgba(0, 0, 0, 0.15);\n",
              "      filter: drop-shadow(0px 1px 2px rgba(0, 0, 0, 0.3));\n",
              "      fill: #FFFFFF;\n",
              "    }\n",
              "  </style>\n",
              "\n",
              "    <script>\n",
              "      const buttonEl =\n",
              "        document.querySelector('#df-e9ba51af-949a-49d6-8cc7-78383d04010c button.colab-df-convert');\n",
              "      buttonEl.style.display =\n",
              "        google.colab.kernel.accessAllowed ? 'block' : 'none';\n",
              "\n",
              "      async function convertToInteractive(key) {\n",
              "        const element = document.querySelector('#df-e9ba51af-949a-49d6-8cc7-78383d04010c');\n",
              "        const dataTable =\n",
              "          await google.colab.kernel.invokeFunction('convertToInteractive',\n",
              "                                                    [key], {});\n",
              "        if (!dataTable) return;\n",
              "\n",
              "        const docLinkHtml = 'Like what you see? Visit the ' +\n",
              "          '<a target=\"_blank\" href=https://colab.research.google.com/notebooks/data_table.ipynb>data table notebook</a>'\n",
              "          + ' to learn more about interactive tables.';\n",
              "        element.innerHTML = '';\n",
              "        dataTable['output_type'] = 'display_data';\n",
              "        await google.colab.output.renderOutput(dataTable, element);\n",
              "        const docLink = document.createElement('div');\n",
              "        docLink.innerHTML = docLinkHtml;\n",
              "        element.appendChild(docLink);\n",
              "      }\n",
              "    </script>\n",
              "  </div>\n",
              "\n",
              "\n",
              "<div id=\"df-9961bc85-06dd-4b85-b785-602ffd27b753\">\n",
              "  <button class=\"colab-df-quickchart\" onclick=\"quickchart('df-9961bc85-06dd-4b85-b785-602ffd27b753')\"\n",
              "            title=\"Suggest charts\"\n",
              "            style=\"display:none;\">\n",
              "\n",
              "<svg xmlns=\"http://www.w3.org/2000/svg\" height=\"24px\"viewBox=\"0 0 24 24\"\n",
              "     width=\"24px\">\n",
              "    <g>\n",
              "        <path d=\"M19 3H5c-1.1 0-2 .9-2 2v14c0 1.1.9 2 2 2h14c1.1 0 2-.9 2-2V5c0-1.1-.9-2-2-2zM9 17H7v-7h2v7zm4 0h-2V7h2v10zm4 0h-2v-4h2v4z\"/>\n",
              "    </g>\n",
              "</svg>\n",
              "  </button>\n",
              "\n",
              "<style>\n",
              "  .colab-df-quickchart {\n",
              "      --bg-color: #E8F0FE;\n",
              "      --fill-color: #1967D2;\n",
              "      --hover-bg-color: #E2EBFA;\n",
              "      --hover-fill-color: #174EA6;\n",
              "      --disabled-fill-color: #AAA;\n",
              "      --disabled-bg-color: #DDD;\n",
              "  }\n",
              "\n",
              "  [theme=dark] .colab-df-quickchart {\n",
              "      --bg-color: #3B4455;\n",
              "      --fill-color: #D2E3FC;\n",
              "      --hover-bg-color: #434B5C;\n",
              "      --hover-fill-color: #FFFFFF;\n",
              "      --disabled-bg-color: #3B4455;\n",
              "      --disabled-fill-color: #666;\n",
              "  }\n",
              "\n",
              "  .colab-df-quickchart {\n",
              "    background-color: var(--bg-color);\n",
              "    border: none;\n",
              "    border-radius: 50%;\n",
              "    cursor: pointer;\n",
              "    display: none;\n",
              "    fill: var(--fill-color);\n",
              "    height: 32px;\n",
              "    padding: 0;\n",
              "    width: 32px;\n",
              "  }\n",
              "\n",
              "  .colab-df-quickchart:hover {\n",
              "    background-color: var(--hover-bg-color);\n",
              "    box-shadow: 0 1px 2px rgba(60, 64, 67, 0.3), 0 1px 3px 1px rgba(60, 64, 67, 0.15);\n",
              "    fill: var(--button-hover-fill-color);\n",
              "  }\n",
              "\n",
              "  .colab-df-quickchart-complete:disabled,\n",
              "  .colab-df-quickchart-complete:disabled:hover {\n",
              "    background-color: var(--disabled-bg-color);\n",
              "    fill: var(--disabled-fill-color);\n",
              "    box-shadow: none;\n",
              "  }\n",
              "\n",
              "  .colab-df-spinner {\n",
              "    border: 2px solid var(--fill-color);\n",
              "    border-color: transparent;\n",
              "    border-bottom-color: var(--fill-color);\n",
              "    animation:\n",
              "      spin 1s steps(1) infinite;\n",
              "  }\n",
              "\n",
              "  @keyframes spin {\n",
              "    0% {\n",
              "      border-color: transparent;\n",
              "      border-bottom-color: var(--fill-color);\n",
              "      border-left-color: var(--fill-color);\n",
              "    }\n",
              "    20% {\n",
              "      border-color: transparent;\n",
              "      border-left-color: var(--fill-color);\n",
              "      border-top-color: var(--fill-color);\n",
              "    }\n",
              "    30% {\n",
              "      border-color: transparent;\n",
              "      border-left-color: var(--fill-color);\n",
              "      border-top-color: var(--fill-color);\n",
              "      border-right-color: var(--fill-color);\n",
              "    }\n",
              "    40% {\n",
              "      border-color: transparent;\n",
              "      border-right-color: var(--fill-color);\n",
              "      border-top-color: var(--fill-color);\n",
              "    }\n",
              "    60% {\n",
              "      border-color: transparent;\n",
              "      border-right-color: var(--fill-color);\n",
              "    }\n",
              "    80% {\n",
              "      border-color: transparent;\n",
              "      border-right-color: var(--fill-color);\n",
              "      border-bottom-color: var(--fill-color);\n",
              "    }\n",
              "    90% {\n",
              "      border-color: transparent;\n",
              "      border-bottom-color: var(--fill-color);\n",
              "    }\n",
              "  }\n",
              "</style>\n",
              "\n",
              "  <script>\n",
              "    async function quickchart(key) {\n",
              "      const quickchartButtonEl =\n",
              "        document.querySelector('#' + key + ' button');\n",
              "      quickchartButtonEl.disabled = true;  // To prevent multiple clicks.\n",
              "      quickchartButtonEl.classList.add('colab-df-spinner');\n",
              "      try {\n",
              "        const charts = await google.colab.kernel.invokeFunction(\n",
              "            'suggestCharts', [key], {});\n",
              "      } catch (error) {\n",
              "        console.error('Error during call to suggestCharts:', error);\n",
              "      }\n",
              "      quickchartButtonEl.classList.remove('colab-df-spinner');\n",
              "      quickchartButtonEl.classList.add('colab-df-quickchart-complete');\n",
              "    }\n",
              "    (() => {\n",
              "      let quickchartButtonEl =\n",
              "        document.querySelector('#df-9961bc85-06dd-4b85-b785-602ffd27b753 button');\n",
              "      quickchartButtonEl.style.display =\n",
              "        google.colab.kernel.accessAllowed ? 'block' : 'none';\n",
              "    })();\n",
              "  </script>\n",
              "</div>\n",
              "    </div>\n",
              "  </div>\n"
            ]
          },
          "metadata": {},
          "execution_count": 10
        }
      ],
      "source": [
        "# This code gives you a random sample of size 300 to analyze and solve questions.\n",
        "\n",
        "# Replace Name3 with your group name (e.g. pro-minds, techteam, etc). The code will generate a csv file with that name that you need to submit in the zip folder as secondary file.\n",
        "\n",
        "try:\n",
        "    df = pd.read_csv('Mouhammad.csv')        # replace Name3 with your own name\n",
        "except FileNotFoundError:\n",
        "    original_data = pd.read_csv(\"https://raw.githubusercontent.com/zu-math/final/main/insurance.csv\")\n",
        "    df1=original_data.sample(300)\n",
        "    df1.to_csv('Mouhammad.csv')                   # replace Name3 with your own name\n",
        "    df = pd.read_csv('Mouhammad.csv')             # replace Name3 with your own name\n",
        "    df = pd.DataFrame(df)\n",
        "    df.to_csv('Mouhammad.csv')                    # replace Name3 with your own name\n",
        "\n",
        "df.head()    # This only displays the first five entries of sample."
      ]
    },
    {
      "cell_type": "markdown",
      "id": "7bd2c8d2",
      "metadata": {
        "id": "7bd2c8d2"
      },
      "source": [
        "# DataSet - 4"
      ]
    },
    {
      "cell_type": "code",
      "execution_count": null,
      "id": "ac7ebc2f",
      "metadata": {
        "id": "ac7ebc2f"
      },
      "outputs": [],
      "source": [
        ""
      ]
    },
    {
      "cell_type": "markdown",
      "id": "f02e36c7",
      "metadata": {
        "id": "f02e36c7"
      },
      "source": [
        "# DataSet - 5"
      ]
    },
    {
      "cell_type": "code",
      "execution_count": null,
      "id": "8eeb6fe2",
      "metadata": {
        "id": "8eeb6fe2"
      },
      "outputs": [],
      "source": []
    },
    {
      "cell_type": "code",
      "execution_count": null,
      "id": "3d88afa2",
      "metadata": {
        "id": "3d88afa2"
      },
      "outputs": [],
      "source": []
    }
  ],
  "metadata": {
    "kernelspec": {
      "display_name": "Python 3 (ipykernel)",
      "language": "python",
      "name": "python3"
    },
    "language_info": {
      "codemirror_mode": {
        "name": "ipython",
        "version": 3
      },
      "file_extension": ".py",
      "mimetype": "text/x-python",
      "name": "python",
      "nbconvert_exporter": "python",
      "pygments_lexer": "ipython3",
      "version": "3.9.12"
    },
    "colab": {
      "provenance": []
    }
  },
  "nbformat": 4,
  "nbformat_minor": 5
}